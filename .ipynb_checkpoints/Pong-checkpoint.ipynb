{
 "cells": [
  {
   "cell_type": "markdown",
   "metadata": {},
   "source": [
    "# Disclaimer"
   ]
  },
  {
   "cell_type": "markdown",
   "metadata": {},
   "source": [
    "Source code has been adapted from https://gist.github.com/karpathy/a4166c7fe253700972fcbc77e4ea32c5"
   ]
  },
  {
   "cell_type": "markdown",
   "metadata": {},
   "source": [
    "# Source "
   ]
  },
  {
   "cell_type": "code",
   "execution_count": 6,
   "metadata": {
    "ExecuteTime": {
     "end_time": "2016-06-28T09:37:08.590489",
     "start_time": "2016-06-28T09:37:08.184861"
    },
    "collapsed": true
   },
   "outputs": [],
   "source": [
    "\"\"\" Trains an agent with (stochastic) Policy Gradients on Pong. Uses OpenAI Gym. \"\"\"\n",
    "%matplotlib inline\n",
    "import matplotlib\n",
    "from IPython.display import display\n",
    "import matplotlib.pyplot as plt\n",
    "\n",
    "import numpy as np\n",
    "#import cPickle as pickle\n",
    "import _pickle as pickle\n",
    "import gym\n",
    "import logging, gzip, configparser"
   ]
  },
  {
   "cell_type": "markdown",
   "metadata": {},
   "source": [
    "## Auxillary functions"
   ]
  },
  {
   "cell_type": "code",
   "execution_count": 7,
   "metadata": {
    "ExecuteTime": {
     "end_time": "2016-06-28T09:37:09.929773",
     "start_time": "2016-06-28T09:37:09.921737"
    },
    "collapsed": true
   },
   "outputs": [],
   "source": [
    "def sigmoid(x): \n",
    "    return 1.0 / (1.0 + np.exp(-x)) # sigmoid \"squashing\" function to interval [0,1]\n",
    "\n",
    "def dsigmoid(x):\n",
    "    \"\"\" this is the derivative of sigmoid \"\"\"\n",
    "    ex = exp(x)\n",
    "    return ex / ((ex + 1.0)^2.0)\n",
    "\n",
    "def prepro(I):\n",
    "    \"\"\" prepro 210x160x3 uint8 frame into 6400 (80x80) 1D float vector \"\"\"\n",
    "    I = I[35:195] # crop\n",
    "    I = I[::2,::2,0] # downsample by factor of 2\n",
    "    I[I == 144] = 0 # erase background (background type 1)\n",
    "    I[I == 109] = 0 # erase background (background type 2)\n",
    "    I[I != 0] = 1 # everything else (paddles, ball) just set to 1\n",
    "    return I\n",
    "  # return I.astype(np.float).ravel()\n"
   ]
  },
  {
   "cell_type": "markdown",
   "metadata": {},
   "source": [
    "## Policy gradients"
   ]
  },
  {
   "cell_type": "markdown",
   "metadata": {},
   "source": [
    "### Forward pass"
   ]
  },
  {
   "cell_type": "code",
   "execution_count": 8,
   "metadata": {
    "ExecuteTime": {
     "end_time": "2016-06-28T09:37:13.716958",
     "start_time": "2016-06-28T09:37:13.712577"
    },
    "collapsed": true
   },
   "outputs": [],
   "source": [
    "def policy_forward(x):\n",
    "    h = np.dot(model['W1'], x)\n",
    "    h[h <= 0] = 0 # ReLU nonlinearity, no inhibitory neurons\n",
    "    rho = np.dot(model['W2'], h)\n",
    "    p = sigmoid(rho)\n",
    "    return rho, p, h # return probability of taking action 2, and hidden state"
   ]
  },
  {
   "cell_type": "markdown",
   "metadata": {},
   "source": [
    "The **policy_forward** function is essentially computing the activations of each neuron, given an input vector of pixels $\\vec{X}$:"
   ]
  },
  {
   "cell_type": "code",
   "execution_count": 54,
   "metadata": {
    "ExecuteTime": {
     "end_time": "2016-06-22T17:49:44.363071",
     "start_time": "2016-06-22T17:49:44.360028"
    },
    "collapsed": false
   },
   "outputs": [
    {
     "data": {
      "text/latex": [
       "\n",
       "\\begin{align}\n",
       "\\left( \n",
       "\\begin{array}{cccc}\n",
       "w_{11} & w_{12} & \\cdots & w_{1D}\\\\\n",
       "w_{21} & w_{22} & \\cdots & w_{2D}\\\\\n",
       "\\vdots & \\vdots &   & \\vdots\\\\\n",
       "w_{H1} & w_{H2} & \\cdots & w_{HD}\\\\    \n",
       "\\end{array} \n",
       "\\right)\n",
       "\n",
       "\\times\n",
       "\n",
       "\\left(\n",
       "\\begin{array}{c}\n",
       "X_{1} \\\\\n",
       "X_{2} \\\\\n",
       "\\vdots \\\\\n",
       "X_{D} \\\\    \n",
       "\\end{array}\n",
       "\\right)=\n",
       "\n",
       "\\left(\n",
       "\\begin{array}{c}\n",
       "h_{1} \\\\\n",
       "h_{2} \\\\\n",
       "\\vdots \\\\\n",
       "h_{H} \\\\    \n",
       "\\end{array}\n",
       "\\right)\n",
       "\\end{align} "
      ],
      "text/plain": [
       "<IPython.core.display.Latex object>"
      ]
     },
     "metadata": {},
     "output_type": "display_data"
    }
   ],
   "source": [
    "%%latex\n",
    "\n",
    "\\begin{align}\n",
    "\\left( \n",
    "\\begin{array}{cccc}\n",
    "w_{11} & w_{12} & \\cdots & w_{1D}\\\\\n",
    "w_{21} & w_{22} & \\cdots & w_{2D}\\\\\n",
    "\\vdots & \\vdots &   & \\vdots\\\\\n",
    "w_{H1} & w_{H2} & \\cdots & w_{HD}\\\\    \n",
    "\\end{array} \n",
    "\\right)\n",
    "\n",
    "\\times\n",
    "\n",
    "\\left(\n",
    "\\begin{array}{c}\n",
    "X_{1} \\\\\n",
    "X_{2} \\\\\n",
    "\\vdots \\\\\n",
    "X_{D} \\\\    \n",
    "\\end{array}\n",
    "\\right)=\n",
    "\n",
    "\\left(\n",
    "\\begin{array}{c}\n",
    "h_{1} \\\\\n",
    "h_{2} \\\\\n",
    "\\vdots \\\\\n",
    "h_{H} \\\\    \n",
    "\\end{array}\n",
    "\\right)\n",
    "\\end{align} "
   ]
  },
  {
   "cell_type": "markdown",
   "metadata": {},
   "source": [
    "where $D$ and $H$ is the input size (number of pixels) and number of hidden neurons, respectively. The activation vector $\\vec{h}$ contains the linear combination of the input pixels.\n",
    "\n",
    "Next, we compute $\\rho$ - the weighted sum of the activation vector $\\vec{h}$ representing the aggregate signal from the neural net:"
   ]
  },
  {
   "cell_type": "code",
   "execution_count": 55,
   "metadata": {
    "ExecuteTime": {
     "end_time": "2016-06-22T17:49:48.258646",
     "start_time": "2016-06-22T17:49:48.255866"
    },
    "collapsed": false
   },
   "outputs": [
    {
     "data": {
      "text/latex": [
       "\n",
       "\\begin{align}\n",
       "\\left( \n",
       "\\begin{array}{cccc}\n",
       "\\Omega_{1} & \\Omega_{2} & \\cdots & \\Omega_{H}\\\\    \n",
       "\\end{array} \n",
       "\\right)\n",
       "\n",
       "\\times\n",
       "\n",
       "\\left(\n",
       "\\begin{array}{c}\n",
       "h_{1} \\\\\n",
       "h_{2} \\\\\n",
       "\\vdots \\\\\n",
       "h_{H} \\\\    \n",
       "\\end{array}\n",
       "\\right)= \n",
       "\n",
       "\\rho\n",
       "\n",
       "\\end{align} "
      ],
      "text/plain": [
       "<IPython.core.display.Latex object>"
      ]
     },
     "metadata": {},
     "output_type": "display_data"
    }
   ],
   "source": [
    "%%latex\n",
    "\n",
    "\\begin{align}\n",
    "\\left( \n",
    "\\begin{array}{cccc}\n",
    "\\Omega_{1} & \\Omega_{2} & \\cdots & \\Omega_{H}\\\\    \n",
    "\\end{array} \n",
    "\\right)\n",
    "\n",
    "\\times\n",
    "\n",
    "\\left(\n",
    "\\begin{array}{c}\n",
    "h_{1} \\\\\n",
    "h_{2} \\\\\n",
    "\\vdots \\\\\n",
    "h_{H} \\\\    \n",
    "\\end{array}\n",
    "\\right)= \n",
    "\n",
    "\\rho\n",
    "\n",
    "\\end{align} "
   ]
  },
  {
   "cell_type": "markdown",
   "metadata": {},
   "source": [
    "There are different ways in which to transform the aggregate signal $\\rho$ into a probability $p$ for a certain action. Here, we use the sigmoid function. It has a few useful features: (i) $\\rho$ = 0 means that the neural net  is indifferent to either action, hence the $p=0.5$, (ii) it is bounded in [0,1]\n",
    "\n",
    "So essentially **policy_forward** is computing:"
   ]
  },
  {
   "cell_type": "code",
   "execution_count": 56,
   "metadata": {
    "ExecuteTime": {
     "end_time": "2016-06-22T17:49:52.906329",
     "start_time": "2016-06-22T17:49:52.903468"
    },
    "collapsed": false
   },
   "outputs": [
    {
     "data": {
      "text/latex": [
       "\n",
       "\\begin{align}\n",
       "\\text{sigmoid}\n",
       "\\left[\n",
       "\\left( \n",
       "\\begin{array}{cccc}\n",
       "\\Omega_{1} & \\Omega_{2} & \\cdots & \\Omega_{H}\\\\    \n",
       "\\end{array} \n",
       "\\right)\n",
       "\n",
       "\\times\n",
       "\\left(\n",
       "\\underbrace{    \n",
       "\\left( \n",
       "\\begin{array}{cccc}\n",
       "w_{11} & w_{12} & \\cdots & w_{1D}\\\\\n",
       "w_{21} & w_{22} & \\cdots & w_{2D}\\\\\n",
       "\\vdots & \\vdots &   & \\vdots\\\\\n",
       "w_{H1} & w_{H2} & \\cdots & w_{HD}\\\\    \n",
       "\\end{array} \n",
       "\\right)\n",
       "    \n",
       "\\times\n",
       "\n",
       "\\left(\n",
       "\\begin{array}{c}\n",
       "X_{1} \\\\\n",
       "X_{2} \\\\\n",
       "\\vdots \\\\\n",
       "X_{D} \\\\    \n",
       "\\end{array}\n",
       "\\right)\n",
       "}_{\\vec{h}}\n",
       "\\right)\n",
       "\\right] = p\n",
       "\\end{align}"
      ],
      "text/plain": [
       "<IPython.core.display.Latex object>"
      ]
     },
     "metadata": {},
     "output_type": "display_data"
    }
   ],
   "source": [
    "%%latex\n",
    "\n",
    "\\begin{align}\n",
    "\\text{sigmoid}\n",
    "\\left[\n",
    "\\left( \n",
    "\\begin{array}{cccc}\n",
    "\\Omega_{1} & \\Omega_{2} & \\cdots & \\Omega_{H}\\\\    \n",
    "\\end{array} \n",
    "\\right)\n",
    "\n",
    "\\times\n",
    "\\left(\n",
    "\\underbrace{    \n",
    "\\left( \n",
    "\\begin{array}{cccc}\n",
    "w_{11} & w_{12} & \\cdots & w_{1D}\\\\\n",
    "w_{21} & w_{22} & \\cdots & w_{2D}\\\\\n",
    "\\vdots & \\vdots &   & \\vdots\\\\\n",
    "w_{H1} & w_{H2} & \\cdots & w_{HD}\\\\    \n",
    "\\end{array} \n",
    "\\right)\n",
    "    \n",
    "\\times\n",
    "\n",
    "\\left(\n",
    "\\begin{array}{c}\n",
    "X_{1} \\\\\n",
    "X_{2} \\\\\n",
    "\\vdots \\\\\n",
    "X_{D} \\\\    \n",
    "\\end{array}\n",
    "\\right)\n",
    "}_{\\vec{h}}\n",
    "\\right)\n",
    "\\right] = p\n",
    "\\end{align}"
   ]
  },
  {
   "cell_type": "markdown",
   "metadata": {},
   "source": [
    "### Backward pass"
   ]
  },
  {
   "cell_type": "markdown",
   "metadata": {},
   "source": [
    "For the backward pass, we define an objective function at time $t$: \n",
    "\n",
    "$\\Lambda(\\Omega,W, t) = 0.5 \\times R(t) \\times(y-p)^2 + \\dfrac{1}{2}\\alpha \\left(\\sum_{i,j} w_{ij}^2\\right)$, \n",
    "\n",
    "where $p$ is the probability to select an action (UP in this case) and $y$ is the actual action taken after sampling. In this sense $\\Lambda$ represents the **uncertainty** or **inconsistency** of the neural network. \n",
    "\n",
    "$\\Lambda \\to 0$ implies that the neural network is confident in that it produces probabilities that are sufficiently close to the bounds of its support (i.e. 0 or 1). \n",
    "\n",
    "Note that the objective function is modulated by the reward at time $t$, $R(t)$. This has two consequences. First a big reward will serve as an incentive to increase confidence. In a sense the neural network will try to exploit the local landscape searching for a higher reward. Second, small reward will tend to render the network less sensitive to uncertainty. **This has the potential to cause convergence to a local suboptimum**.\n",
    "\n",
    "Finally, we include L2 regularization in the last term with a penalty $\\alpha$.\n",
    "\n",
    "Our back-propagation algorithm will try to minimize $\\Lambda$. Some math:"
   ]
  },
  {
   "cell_type": "code",
   "execution_count": 2,
   "metadata": {
    "ExecuteTime": {
     "end_time": "2016-06-23T16:08:45.433163",
     "start_time": "2016-06-23T16:08:45.429922"
    },
    "collapsed": false
   },
   "outputs": [
    {
     "data": {
      "text/latex": [
       "\\begin{align}\n",
       "\n",
       "\\dfrac{\\partial \\Lambda}{\\partial \\Omega_i} = \\dfrac{1}{2}.R(t).\n",
       "\\dfrac{\\partial (y-p)^2}{\\partial \\rho}.\\dfrac{\\partial \\rho}{\\partial \\Omega_i}=\n",
       "R(t).\\dfrac{1}{2}\\dfrac{\\partial (y-\\text{sigmoid}(\\rho))^2}{\\partial \\rho}.\n",
       "\\dfrac{\\partial (\\Omega.\\vec{h})}{\\partial \\Omega_i}\\quad=\\quad\n",
       "\n",
       "-R(t).(y-p).\\dfrac{d\\text{sigmoid}(\\rho)}{d\\rho}.h_i\n",
       "\\end{align}\n"
      ],
      "text/plain": [
       "<IPython.core.display.Latex object>"
      ]
     },
     "metadata": {},
     "output_type": "display_data"
    }
   ],
   "source": [
    "%%latex\n",
    "\\begin{align}\n",
    "\n",
    "\\dfrac{\\partial \\Lambda}{\\partial \\Omega_i} = \\dfrac{1}{2}.R(t).\n",
    "\\dfrac{\\partial (y-p)^2}{\\partial \\rho}.\\dfrac{\\partial \\rho}{\\partial \\Omega_i}=\n",
    "R(t).\\dfrac{1}{2}\\dfrac{\\partial (y-\\text{sigmoid}(\\rho))^2}{\\partial \\rho}.\n",
    "\\dfrac{\\partial (\\Omega.\\vec{h})}{\\partial \\Omega_i}\\quad=\\quad\n",
    "\n",
    "-R(t).(y-p).\\dfrac{d\\text{sigmoid}(\\rho)}{d\\rho}.h_i\n",
    "\\end{align}\n",
    "\n"
   ]
  },
  {
   "cell_type": "markdown",
   "metadata": {},
   "source": [
    "and"
   ]
  },
  {
   "cell_type": "code",
   "execution_count": 12,
   "metadata": {
    "ExecuteTime": {
     "end_time": "2016-06-28T09:56:27.301976",
     "start_time": "2016-06-28T09:56:27.298616"
    },
    "collapsed": false
   },
   "outputs": [
    {
     "data": {
      "text/latex": [
       "\n",
       "\\begin{align}\n",
       "\n",
       "\\dfrac{\\partial \\Lambda}{\\partial w_{ij}} = \\dfrac{1}{2}.R(t).\n",
       "\\dfrac{\\partial (y-p)^2}{\\partial \\rho}.\\dfrac{\\partial \\rho}{\\partial \\vec{h}}.\n",
       "\\dfrac{\\partial \\vec{h}}{\\partial w_{ij}}+\n",
       "\\dfrac{1}{2}\\alpha\\dfrac{\\partial\\left(\\sum_{i,j} w_{ij}^2\\right)}{\\partial w_{ij}}\n",
       "\n",
       "\\quad=\\quad\n",
       "\n",
       "-R(t).(y-p).\\dfrac{d\\text{sigmoid}(\\rho)}{d\\rho}.\\Omega_i.X_{j} + \\alpha.w_{ij}\n",
       "\n",
       "\\end{align}"
      ],
      "text/plain": [
       "<IPython.core.display.Latex object>"
      ]
     },
     "metadata": {},
     "output_type": "display_data"
    }
   ],
   "source": [
    "%%latex\n",
    "\n",
    "\\begin{align}\n",
    "\n",
    "\\dfrac{\\partial \\Lambda}{\\partial w_{ij}} = \\dfrac{1}{2}.R(t).\n",
    "\\dfrac{\\partial (y-p)^2}{\\partial \\rho}.\\dfrac{\\partial \\rho}{\\partial \\vec{h}}.\n",
    "\\dfrac{\\partial \\vec{h}}{\\partial w_{ij}}+\n",
    "\\dfrac{1}{2}\\alpha\\dfrac{\\partial\\left(\\sum_{i,j} w_{ij}^2\\right)}{\\partial w_{ij}}\n",
    "\n",
    "\\quad=\\quad\n",
    "\n",
    "-R(t).(y-p).\\dfrac{d\\text{sigmoid}(\\rho)}{d\\rho}.\\Omega_i.X_{j} + \\alpha.w_{ij}\n",
    "\n",
    "\\end{align}"
   ]
  },
  {
   "cell_type": "code",
   "execution_count": 9,
   "metadata": {
    "ExecuteTime": {
     "end_time": "2016-06-28T09:37:19.018521",
     "start_time": "2016-06-28T09:37:19.014147"
    },
    "collapsed": true
   },
   "outputs": [],
   "source": [
    "def policy_backward(eph, epdlogp, epdrho):\n",
    "    \"\"\" backward pass. (eph is array of intermediate hidden states) \"\"\"\n",
    "    dW2 = np.dot(eph.T, epdlogp*epdrho).ravel()\n",
    "    dh = np.outer(epdlogp*epdrho, model['W2'])\n",
    "    dh[eph <= 0] = 0 # backpro prelu.\n",
    "    dW1 = np.dot(dh.T, epx) - alpha*model['W1']\n",
    "    return {'W1':dW1, 'W2':dW2}"
   ]
  },
  {
   "cell_type": "code",
   "execution_count": 10,
   "metadata": {
    "ExecuteTime": {
     "end_time": "2016-06-28T09:37:20.765342",
     "start_time": "2016-06-28T09:37:20.759945"
    },
    "collapsed": true
   },
   "outputs": [],
   "source": [
    "def discount_rewards(r):\n",
    "    \"\"\" take 1D float array of rewards and compute discounted reward \"\"\"\n",
    "    discounted_r = np.zeros_like(r)    \n",
    "    running_add = 0\n",
    "    for t in reversed(range(0, r.size)):\n",
    "        if r[t] != 0: \n",
    "            running_add = 0 # reset the sum, since this was a game boundary (pong specific!)\n",
    "        running_add = running_add * gamma + r[t]\n",
    "        discounted_r[t] = running_add\n",
    "    return discounted_r"
   ]
  },
  {
   "cell_type": "markdown",
   "metadata": {},
   "source": [
    "## Set-up "
   ]
  },
  {
   "cell_type": "code",
   "execution_count": 45,
   "metadata": {
    "ExecuteTime": {
     "end_time": "2016-06-22T16:24:18.982552",
     "start_time": "2016-06-22T16:24:18.975279"
    },
    "collapsed": false
   },
   "outputs": [],
   "source": [
    "# logging\n",
    "logging_level = logging.DEBUG\n",
    "flogging_level = logging.INFO\n",
    "\n",
    "formatter = logging.Formatter(fmt=(\"%(asctime)s - %(levelname)s - %(module)s - %(message)s\"))\n",
    "shandler = logging.StreamHandler()\n",
    "shandler.setFormatter(formatter)\n",
    "shandler.setLevel(logging_level)\n",
    "\n",
    "fhandler = logging.handlers.RotatingFileHandler('pong.log',encoding='utf-8',maxBytes=1e+8,backupCount=100)\n",
    "fhandler.setFormatter(formatter)\n",
    "fhandler.setLevel(flogging_level)\n",
    "\n",
    "logger = logging.getLogger('PONG')\n",
    "logger.setLevel(flogging_level)\n",
    "logger.addHandler(shandler)\n",
    "logger.addHandler(fhandler)"
   ]
  },
  {
   "cell_type": "code",
   "execution_count": null,
   "metadata": {
    "ExecuteTime": {
     "end_time": "2016-06-22T16:24:22.470641",
     "start_time": "2016-06-22T16:24:22.407977"
    },
    "collapsed": true
   },
   "outputs": [],
   "source": [
    "### hyperparameters\n",
    "config = configparser.ConfigParser()\n",
    "config.read('config.properties')\n",
    "H = int(config['NEURAL_NETWORK']['number_neurons']) # number of hidden layer neurons\n",
    "batch_size = int(config['NEURAL_NETWORK']['batch_size']) # every how many episodes (games) to do a param update?\n",
    "learning_rate = float(config['NEURAL_NETWORK']['learning_rate'])\n",
    "gamma = float(config['NEURAL_NETWORK']['gamma']) # discount factor for reward\n",
    "alpha = float(config['NEURAL_NETWORK']['alpha']) # L2 regularization\n",
    "decay_rate = float(config['NEURAL_NETWORK']['decay_rate']) # decay factor for RMSProp leaky sum of grad^2\n",
    "resume = config['NEURAL_NETWORK']['resume'].lower() == 'true' # resume from previous checkpoint?\n",
    "render = config['NEURAL_NETWORK']['render'].lower() == 'true'\n",
    "# number of pixels\n",
    "D = int(config['NEURAL_NETWORK']['x']) # input dimensionality: 80x80 grid\n",
    "\n",
    "# log the configs\n",
    "logger.info('H:%d,D:%d,batch_size:%d,learning_rate:%f,gamma:%f,decay_rate:%f,resume:%s,render:%s',\n",
    "           H,D,batch_size,learning_rate,gamma,decay_rate,resume,render)\n",
    "\n",
    "if resume:\n",
    "    model = pickle.load(open('save.p', 'rb'))\n",
    "else:\n",
    "    model = {}\n",
    "    model['W1'] = np.random.randn(H,D) / np.sqrt(D) # \"Xavier\" initialization\n",
    "    model['W2'] = np.random.randn(H) / np.sqrt(H)"
   ]
  },
  {
   "cell_type": "markdown",
   "metadata": {},
   "source": [
    "'Xavier' initialization ensures that the variance of $W \\times X$ equals the variance of $W$, i.e. the output of a neuron varies as much as the input $X$.\n",
    "      \n",
    " Each element $w_{ij}$ of the matrix $W_1$ gives the weights of neuron $i$ in responding to input pixel $X_{j}$. I.e. the rows $w_i$ of $W_1$ correspond to the weights of neuron $i$ for the whole image."
   ]
  },
  {
   "cell_type": "code",
   "execution_count": null,
   "metadata": {
    "ExecuteTime": {
     "end_time": "2016-06-22T10:10:25.662874",
     "start_time": "2016-06-22T10:10:25.652503"
    },
    "collapsed": true
   },
   "outputs": [],
   "source": [
    "# update buffers that add up gradients over a batch\n",
    "grad_buffer = { k : np.zeros_like(v) for k,v in model.items() } \n",
    "# rmsprop memory\n",
    "rmsprop_cache = { k : np.zeros_like(v) for k,v in model.items() } \n",
    "\n",
    "prev_x = None # used in computing the difference frame\n",
    "xs,hs,dlogps,drhos,drs = [],[],[],[],[]\n",
    "running_reward = None\n",
    "reward_sum = 0\n",
    "episode_number = 0\n",
    "n_frames = 0 # number of frames in an episode"
   ]
  },
  {
   "cell_type": "code",
   "execution_count": null,
   "metadata": {
    "ExecuteTime": {
     "end_time": "2016-06-22T10:10:27.434405",
     "start_time": "2016-06-22T10:10:27.244814"
    },
    "collapsed": false
   },
   "outputs": [],
   "source": [
    "#\n",
    "env = gym.make(\"Pong-v0\")\n",
    "observation = env.reset()\n",
    "\n",
    "# Have a look at the initial environment\n",
    "plt.imshow(observation)\n",
    "plt.show()\n",
    "\n",
    "# Look at the available actions\n",
    "env.get_action_meanings()\n",
    "#\n",
    "action_space = {'UP': 2, 'DOWN': 3}"
   ]
  },
  {
   "cell_type": "markdown",
   "metadata": {},
   "source": [
    "'RIGHT' = 2 and 'LEFT' = 3 probably refer to 'UP' and 'DOWN' respectively"
   ]
  },
  {
   "cell_type": "markdown",
   "metadata": {},
   "source": [
    "## Main loop"
   ]
  },
  {
   "cell_type": "code",
   "execution_count": null,
   "metadata": {
    "collapsed": true
   },
   "outputs": [],
   "source": [
    "keep_going = True\n",
    "while keep_going:\n",
    "    if render:\n",
    "        env.render()\n",
    "\n",
    "    # preprocess (crop) the observation, set input to network to be difference image\n",
    "    cur_x = prepro(observation).astype(np.float).ravel()\n",
    "    x = cur_x - prev_x if prev_x is not None else np.zeros(D)\n",
    "    prev_x = cur_x\n",
    "\n",
    "    # forward the policy network and sample an action from the returned probability\n",
    "    # aprob is the probability of going UP\n",
    "    rho, aprob, h = policy_forward(x)\n",
    "    # UP = 2, DOWN = 3\n",
    "    action = action_space['UP'] if np.random.uniform() < aprob else action_space['DOWN'] # roll the dice!\n",
    "\n",
    "    # record various intermediates (needed later for backprop)\n",
    "    xs.append(x) # observation\n",
    "    hs.append(h) # hidden state\n",
    "    drhos.append(dsigmoid(rho)) # the first derivative of the sigmoid activation function at rho\n",
    "    y = 1 if action == action_space['UP'] else 0 # take an action\n",
    "\n",
    "    \"\"\"\n",
    "     grad that encourages the action that was taken to be taken\n",
    "     (see http://cs231n.github.io/neural-networks-2/#losses if confused)\n",
    "    \"\"\"\n",
    "    dlogps.append(y - aprob)\n",
    "\n",
    "    # step the environment and get new measurements\n",
    "    observation, reward, done, info = env.step(action)\n",
    "    reward_sum += reward\n",
    "\n",
    "    drs.append(reward) # record reward (has to be done after we call step() to get reward for previous action)\n",
    "    n_frames += 1\n",
    "\n",
    "    if done: # an episode finished, i.e. score up to 21 for either player\n",
    "        logger.info('Finished episode %d with %d frames.', episode_number, n_frames)\n",
    "        \n",
    "        episode_number += 1\n",
    "\n",
    "        # stack together all inputs, hidden states, action gradients, and rewards for this episode\n",
    "        epx = np.vstack(xs)\n",
    "        eph = np.vstack(hs)\n",
    "        epdlogp = np.vstack(dlogps)\n",
    "        epdrho = np.vstack(drhos)\n",
    "        epr = np.vstack(drs)\n",
    "        xs,hs,dlogps,drhos,drs = [],[],[],[],[] # reset array memory\n",
    "\n",
    "        # compute the discounted reward backwards through time\n",
    "        discounted_epr = discount_rewards(epr)\n",
    "        # standardize the rewards to be unit normal (helps control the gradient estimator variance)\n",
    "        discounted_epr -= np.mean(discounted_epr)\n",
    "        discounted_epr /= np.std(discounted_epr)\n",
    "\n",
    "        epdlogp *= discounted_epr # modulate the gradient with advantage (PG magic happens right here.)\n",
    "        grad = policy_backward(eph, epdlogp, epdrho)\n",
    "        for k in model:\n",
    "            grad_buffer[k] += grad[k] # accumulate grad over batch\n",
    "\n",
    "        # perform rmsprop parameter update every batch_size episodes\n",
    "        if episode_number % batch_size == 0:\n",
    "            logger.info('Performing param update')\n",
    "            for k,v in model.items():\n",
    "                g = grad_buffer[k] # gradient\n",
    "                rmsprop_cache[k] = decay_rate * rmsprop_cache[k] + (1 - decay_rate) * g**2\n",
    "                model[k] += learning_rate * g / (np.sqrt(rmsprop_cache[k]) + 1e-5)\n",
    "                grad_buffer[k] = np.zeros_like(v) # reset batch gradient buffer\n",
    "\n",
    "\n",
    "        # boring book-keeping\n",
    "        if episode_number % 100 == 0:\n",
    "            logger.info(\"Writing model to file, episode %d\",episode_number)\n",
    "            pickle.dump(model, open('save_'+str(episode_number)+'.p', 'wb'))\n",
    "        \n",
    "        running_reward = reward_sum if running_reward is None else running_reward * 0.99 + reward_sum * 0.01\n",
    "        logger.info('Resetting env. episode total/mean reward, up frequency and sum(W1): %f \\t %f \\t %f \\t %f',\n",
    "                    reward_sum, running_reward,model['frequency_up'],np.sum(model['W1']))\n",
    "        reward_sum = 0\n",
    "        observation = env.reset() # reset env\n",
    "        prev_x = None\n",
    "\n",
    "        if reward == 1 or reward == -1:\n",
    "            logger.info('ep %d: game finished, reward: %f', episode_number, reward)\n",
    "        else:\n",
    "            logger.error('ep %d: game finished, but received invalid reward: %f !!!', episode_number, reward)\n"
   ]
  }
 ],
 "metadata": {
  "kernelspec": {
   "display_name": "Python 3",
   "language": "python",
   "name": "python3"
  },
  "language_info": {
   "codemirror_mode": {
    "name": "ipython",
    "version": 3
   },
   "file_extension": ".py",
   "mimetype": "text/x-python",
   "name": "python",
   "nbconvert_exporter": "python",
   "pygments_lexer": "ipython3",
   "version": "3.5.1"
  },
  "toc": {
   "toc_cell": false,
   "toc_number_sections": true,
   "toc_threshold": 6,
   "toc_window_display": false
  }
 },
 "nbformat": 4,
 "nbformat_minor": 0
}
